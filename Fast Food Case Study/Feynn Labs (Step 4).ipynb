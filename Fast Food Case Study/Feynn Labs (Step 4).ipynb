{
 "cells": [
  {
   "cell_type": "markdown",
   "id": "da501f2e",
   "metadata": {},
   "source": [
    "### Exploring Data"
   ]
  },
  {
   "cell_type": "code",
   "execution_count": 127,
   "id": "366ad948",
   "metadata": {},
   "outputs": [],
   "source": [
    "import numpy as np\n",
    "import pandas as pd"
   ]
  },
  {
   "cell_type": "code",
   "execution_count": 128,
   "id": "b6c5548d",
   "metadata": {},
   "outputs": [],
   "source": [
    "df=pd.read_csv('https://homepage.boku.ac.at/leisch/MSA/datasets/mcdonalds.csv')"
   ]
  },
  {
   "cell_type": "markdown",
   "id": "33953b09",
   "metadata": {},
   "source": [
    "#### 6.1 A First Glimpse at the Data"
   ]
  },
  {
   "cell_type": "code",
   "execution_count": 129,
   "id": "4e459e55",
   "metadata": {},
   "outputs": [
    {
     "data": {
      "text/html": [
       "<div>\n",
       "<style scoped>\n",
       "    .dataframe tbody tr th:only-of-type {\n",
       "        vertical-align: middle;\n",
       "    }\n",
       "\n",
       "    .dataframe tbody tr th {\n",
       "        vertical-align: top;\n",
       "    }\n",
       "\n",
       "    .dataframe thead th {\n",
       "        text-align: right;\n",
       "    }\n",
       "</style>\n",
       "<table border=\"1\" class=\"dataframe\">\n",
       "  <thead>\n",
       "    <tr style=\"text-align: right;\">\n",
       "      <th></th>\n",
       "      <th>yummy</th>\n",
       "      <th>convenient</th>\n",
       "      <th>spicy</th>\n",
       "      <th>fattening</th>\n",
       "      <th>greasy</th>\n",
       "      <th>fast</th>\n",
       "      <th>cheap</th>\n",
       "      <th>tasty</th>\n",
       "      <th>expensive</th>\n",
       "      <th>healthy</th>\n",
       "      <th>disgusting</th>\n",
       "      <th>Like</th>\n",
       "      <th>Age</th>\n",
       "      <th>VisitFrequency</th>\n",
       "      <th>Gender</th>\n",
       "    </tr>\n",
       "  </thead>\n",
       "  <tbody>\n",
       "    <tr>\n",
       "      <th>0</th>\n",
       "      <td>No</td>\n",
       "      <td>Yes</td>\n",
       "      <td>No</td>\n",
       "      <td>Yes</td>\n",
       "      <td>No</td>\n",
       "      <td>Yes</td>\n",
       "      <td>Yes</td>\n",
       "      <td>No</td>\n",
       "      <td>Yes</td>\n",
       "      <td>No</td>\n",
       "      <td>No</td>\n",
       "      <td>-3</td>\n",
       "      <td>61</td>\n",
       "      <td>Every three months</td>\n",
       "      <td>Female</td>\n",
       "    </tr>\n",
       "    <tr>\n",
       "      <th>1</th>\n",
       "      <td>Yes</td>\n",
       "      <td>Yes</td>\n",
       "      <td>No</td>\n",
       "      <td>Yes</td>\n",
       "      <td>Yes</td>\n",
       "      <td>Yes</td>\n",
       "      <td>Yes</td>\n",
       "      <td>Yes</td>\n",
       "      <td>Yes</td>\n",
       "      <td>No</td>\n",
       "      <td>No</td>\n",
       "      <td>+2</td>\n",
       "      <td>51</td>\n",
       "      <td>Every three months</td>\n",
       "      <td>Female</td>\n",
       "    </tr>\n",
       "    <tr>\n",
       "      <th>2</th>\n",
       "      <td>No</td>\n",
       "      <td>Yes</td>\n",
       "      <td>Yes</td>\n",
       "      <td>Yes</td>\n",
       "      <td>Yes</td>\n",
       "      <td>Yes</td>\n",
       "      <td>No</td>\n",
       "      <td>Yes</td>\n",
       "      <td>Yes</td>\n",
       "      <td>Yes</td>\n",
       "      <td>No</td>\n",
       "      <td>+1</td>\n",
       "      <td>62</td>\n",
       "      <td>Every three months</td>\n",
       "      <td>Female</td>\n",
       "    </tr>\n",
       "    <tr>\n",
       "      <th>3</th>\n",
       "      <td>Yes</td>\n",
       "      <td>Yes</td>\n",
       "      <td>No</td>\n",
       "      <td>Yes</td>\n",
       "      <td>Yes</td>\n",
       "      <td>Yes</td>\n",
       "      <td>Yes</td>\n",
       "      <td>Yes</td>\n",
       "      <td>No</td>\n",
       "      <td>No</td>\n",
       "      <td>Yes</td>\n",
       "      <td>+4</td>\n",
       "      <td>69</td>\n",
       "      <td>Once a week</td>\n",
       "      <td>Female</td>\n",
       "    </tr>\n",
       "    <tr>\n",
       "      <th>4</th>\n",
       "      <td>No</td>\n",
       "      <td>Yes</td>\n",
       "      <td>No</td>\n",
       "      <td>Yes</td>\n",
       "      <td>Yes</td>\n",
       "      <td>Yes</td>\n",
       "      <td>Yes</td>\n",
       "      <td>No</td>\n",
       "      <td>No</td>\n",
       "      <td>Yes</td>\n",
       "      <td>No</td>\n",
       "      <td>+2</td>\n",
       "      <td>49</td>\n",
       "      <td>Once a month</td>\n",
       "      <td>Male</td>\n",
       "    </tr>\n",
       "  </tbody>\n",
       "</table>\n",
       "</div>"
      ],
      "text/plain": [
       "  yummy convenient spicy fattening greasy fast cheap tasty expensive healthy  \\\n",
       "0    No        Yes    No       Yes     No  Yes   Yes    No       Yes      No   \n",
       "1   Yes        Yes    No       Yes    Yes  Yes   Yes   Yes       Yes      No   \n",
       "2    No        Yes   Yes       Yes    Yes  Yes    No   Yes       Yes     Yes   \n",
       "3   Yes        Yes    No       Yes    Yes  Yes   Yes   Yes        No      No   \n",
       "4    No        Yes    No       Yes    Yes  Yes   Yes    No        No     Yes   \n",
       "\n",
       "  disgusting Like  Age      VisitFrequency  Gender  \n",
       "0         No   -3   61  Every three months  Female  \n",
       "1         No   +2   51  Every three months  Female  \n",
       "2         No   +1   62  Every three months  Female  \n",
       "3        Yes   +4   69         Once a week  Female  \n",
       "4         No   +2   49        Once a month    Male  "
      ]
     },
     "execution_count": 129,
     "metadata": {},
     "output_type": "execute_result"
    }
   ],
   "source": [
    "df.head()"
   ]
  },
  {
   "cell_type": "code",
   "execution_count": 130,
   "id": "120b2a36",
   "metadata": {},
   "outputs": [
    {
     "data": {
      "text/html": [
       "<div>\n",
       "<style scoped>\n",
       "    .dataframe tbody tr th:only-of-type {\n",
       "        vertical-align: middle;\n",
       "    }\n",
       "\n",
       "    .dataframe tbody tr th {\n",
       "        vertical-align: top;\n",
       "    }\n",
       "\n",
       "    .dataframe thead th {\n",
       "        text-align: right;\n",
       "    }\n",
       "</style>\n",
       "<table border=\"1\" class=\"dataframe\">\n",
       "  <thead>\n",
       "    <tr style=\"text-align: right;\">\n",
       "      <th></th>\n",
       "      <th>yummy</th>\n",
       "      <th>convenient</th>\n",
       "      <th>spicy</th>\n",
       "      <th>fattening</th>\n",
       "      <th>greasy</th>\n",
       "      <th>fast</th>\n",
       "      <th>cheap</th>\n",
       "      <th>tasty</th>\n",
       "      <th>expensive</th>\n",
       "      <th>healthy</th>\n",
       "      <th>disgusting</th>\n",
       "      <th>Like</th>\n",
       "      <th>Age</th>\n",
       "      <th>VisitFrequency</th>\n",
       "      <th>Gender</th>\n",
       "    </tr>\n",
       "  </thead>\n",
       "  <tbody>\n",
       "    <tr>\n",
       "      <th>585</th>\n",
       "      <td>Yes</td>\n",
       "      <td>Yes</td>\n",
       "      <td>No</td>\n",
       "      <td>Yes</td>\n",
       "      <td>Yes</td>\n",
       "      <td>Yes</td>\n",
       "      <td>Yes</td>\n",
       "      <td>Yes</td>\n",
       "      <td>No</td>\n",
       "      <td>No</td>\n",
       "      <td>No</td>\n",
       "      <td>+2</td>\n",
       "      <td>37</td>\n",
       "      <td>Once a month</td>\n",
       "      <td>Male</td>\n",
       "    </tr>\n",
       "    <tr>\n",
       "      <th>407</th>\n",
       "      <td>Yes</td>\n",
       "      <td>Yes</td>\n",
       "      <td>Yes</td>\n",
       "      <td>Yes</td>\n",
       "      <td>Yes</td>\n",
       "      <td>Yes</td>\n",
       "      <td>No</td>\n",
       "      <td>Yes</td>\n",
       "      <td>Yes</td>\n",
       "      <td>No</td>\n",
       "      <td>No</td>\n",
       "      <td>+1</td>\n",
       "      <td>60</td>\n",
       "      <td>Once a year</td>\n",
       "      <td>Male</td>\n",
       "    </tr>\n",
       "    <tr>\n",
       "      <th>246</th>\n",
       "      <td>No</td>\n",
       "      <td>Yes</td>\n",
       "      <td>Yes</td>\n",
       "      <td>No</td>\n",
       "      <td>Yes</td>\n",
       "      <td>Yes</td>\n",
       "      <td>No</td>\n",
       "      <td>No</td>\n",
       "      <td>Yes</td>\n",
       "      <td>No</td>\n",
       "      <td>No</td>\n",
       "      <td>-3</td>\n",
       "      <td>52</td>\n",
       "      <td>Every three months</td>\n",
       "      <td>Female</td>\n",
       "    </tr>\n",
       "    <tr>\n",
       "      <th>1027</th>\n",
       "      <td>Yes</td>\n",
       "      <td>Yes</td>\n",
       "      <td>No</td>\n",
       "      <td>Yes</td>\n",
       "      <td>No</td>\n",
       "      <td>Yes</td>\n",
       "      <td>No</td>\n",
       "      <td>Yes</td>\n",
       "      <td>No</td>\n",
       "      <td>Yes</td>\n",
       "      <td>No</td>\n",
       "      <td>+3</td>\n",
       "      <td>65</td>\n",
       "      <td>Every three months</td>\n",
       "      <td>Female</td>\n",
       "    </tr>\n",
       "    <tr>\n",
       "      <th>531</th>\n",
       "      <td>No</td>\n",
       "      <td>Yes</td>\n",
       "      <td>No</td>\n",
       "      <td>Yes</td>\n",
       "      <td>No</td>\n",
       "      <td>Yes</td>\n",
       "      <td>No</td>\n",
       "      <td>Yes</td>\n",
       "      <td>Yes</td>\n",
       "      <td>No</td>\n",
       "      <td>No</td>\n",
       "      <td>0</td>\n",
       "      <td>38</td>\n",
       "      <td>Once a month</td>\n",
       "      <td>Female</td>\n",
       "    </tr>\n",
       "  </tbody>\n",
       "</table>\n",
       "</div>"
      ],
      "text/plain": [
       "     yummy convenient spicy fattening greasy fast cheap tasty expensive  \\\n",
       "585    Yes        Yes    No       Yes    Yes  Yes   Yes   Yes        No   \n",
       "407    Yes        Yes   Yes       Yes    Yes  Yes    No   Yes       Yes   \n",
       "246     No        Yes   Yes        No    Yes  Yes    No    No       Yes   \n",
       "1027   Yes        Yes    No       Yes     No  Yes    No   Yes        No   \n",
       "531     No        Yes    No       Yes     No  Yes    No   Yes       Yes   \n",
       "\n",
       "     healthy disgusting Like  Age      VisitFrequency  Gender  \n",
       "585       No         No   +2   37        Once a month    Male  \n",
       "407       No         No   +1   60         Once a year    Male  \n",
       "246       No         No   -3   52  Every three months  Female  \n",
       "1027     Yes         No   +3   65  Every three months  Female  \n",
       "531       No         No    0   38        Once a month  Female  "
      ]
     },
     "execution_count": 130,
     "metadata": {},
     "output_type": "execute_result"
    }
   ],
   "source": [
    "df.sample(5)"
   ]
  },
  {
   "cell_type": "markdown",
   "id": "feb241ac",
   "metadata": {},
   "source": [
    "#### 6.2 Data Cleaning"
   ]
  },
  {
   "cell_type": "code",
   "execution_count": 131,
   "id": "5474983d",
   "metadata": {},
   "outputs": [
    {
     "data": {
      "text/plain": [
       "(1453, 15)"
      ]
     },
     "execution_count": 131,
     "metadata": {},
     "output_type": "execute_result"
    }
   ],
   "source": [
    "df.shape"
   ]
  },
  {
   "cell_type": "code",
   "execution_count": 132,
   "id": "276cd017",
   "metadata": {},
   "outputs": [
    {
     "data": {
      "text/html": [
       "<div>\n",
       "<style scoped>\n",
       "    .dataframe tbody tr th:only-of-type {\n",
       "        vertical-align: middle;\n",
       "    }\n",
       "\n",
       "    .dataframe tbody tr th {\n",
       "        vertical-align: top;\n",
       "    }\n",
       "\n",
       "    .dataframe thead th {\n",
       "        text-align: right;\n",
       "    }\n",
       "</style>\n",
       "<table border=\"1\" class=\"dataframe\">\n",
       "  <thead>\n",
       "    <tr style=\"text-align: right;\">\n",
       "      <th></th>\n",
       "      <th>yummy</th>\n",
       "      <th>convenient</th>\n",
       "      <th>spicy</th>\n",
       "      <th>fattening</th>\n",
       "      <th>greasy</th>\n",
       "      <th>fast</th>\n",
       "      <th>cheap</th>\n",
       "      <th>tasty</th>\n",
       "      <th>expensive</th>\n",
       "      <th>healthy</th>\n",
       "      <th>disgusting</th>\n",
       "      <th>Like</th>\n",
       "      <th>VisitFrequency</th>\n",
       "      <th>Gender</th>\n",
       "    </tr>\n",
       "  </thead>\n",
       "  <tbody>\n",
       "    <tr>\n",
       "      <th>count</th>\n",
       "      <td>1453</td>\n",
       "      <td>1453</td>\n",
       "      <td>1453</td>\n",
       "      <td>1453</td>\n",
       "      <td>1453</td>\n",
       "      <td>1453</td>\n",
       "      <td>1453</td>\n",
       "      <td>1453</td>\n",
       "      <td>1453</td>\n",
       "      <td>1453</td>\n",
       "      <td>1453</td>\n",
       "      <td>1453</td>\n",
       "      <td>1453</td>\n",
       "      <td>1453</td>\n",
       "    </tr>\n",
       "    <tr>\n",
       "      <th>unique</th>\n",
       "      <td>2</td>\n",
       "      <td>2</td>\n",
       "      <td>2</td>\n",
       "      <td>2</td>\n",
       "      <td>2</td>\n",
       "      <td>2</td>\n",
       "      <td>2</td>\n",
       "      <td>2</td>\n",
       "      <td>2</td>\n",
       "      <td>2</td>\n",
       "      <td>2</td>\n",
       "      <td>11</td>\n",
       "      <td>6</td>\n",
       "      <td>2</td>\n",
       "    </tr>\n",
       "    <tr>\n",
       "      <th>top</th>\n",
       "      <td>Yes</td>\n",
       "      <td>Yes</td>\n",
       "      <td>No</td>\n",
       "      <td>Yes</td>\n",
       "      <td>Yes</td>\n",
       "      <td>Yes</td>\n",
       "      <td>Yes</td>\n",
       "      <td>Yes</td>\n",
       "      <td>No</td>\n",
       "      <td>No</td>\n",
       "      <td>No</td>\n",
       "      <td>+3</td>\n",
       "      <td>Once a month</td>\n",
       "      <td>Female</td>\n",
       "    </tr>\n",
       "    <tr>\n",
       "      <th>freq</th>\n",
       "      <td>803</td>\n",
       "      <td>1319</td>\n",
       "      <td>1317</td>\n",
       "      <td>1260</td>\n",
       "      <td>765</td>\n",
       "      <td>1308</td>\n",
       "      <td>870</td>\n",
       "      <td>936</td>\n",
       "      <td>933</td>\n",
       "      <td>1164</td>\n",
       "      <td>1100</td>\n",
       "      <td>229</td>\n",
       "      <td>439</td>\n",
       "      <td>788</td>\n",
       "    </tr>\n",
       "  </tbody>\n",
       "</table>\n",
       "</div>"
      ],
      "text/plain": [
       "       yummy convenient spicy fattening greasy  fast cheap tasty expensive  \\\n",
       "count   1453       1453  1453      1453   1453  1453  1453  1453      1453   \n",
       "unique     2          2     2         2      2     2     2     2         2   \n",
       "top      Yes        Yes    No       Yes    Yes   Yes   Yes   Yes        No   \n",
       "freq     803       1319  1317      1260    765  1308   870   936       933   \n",
       "\n",
       "       healthy disgusting  Like VisitFrequency  Gender  \n",
       "count     1453       1453  1453           1453    1453  \n",
       "unique       2          2    11              6       2  \n",
       "top         No         No    +3   Once a month  Female  \n",
       "freq      1164       1100   229            439     788  "
      ]
     },
     "execution_count": 132,
     "metadata": {},
     "output_type": "execute_result"
    }
   ],
   "source": [
    "# Statistical info of the data\n",
    "df.describe(include='O')"
   ]
  },
  {
   "cell_type": "code",
   "execution_count": 133,
   "id": "9def6ce4",
   "metadata": {},
   "outputs": [
    {
     "name": "stdout",
     "output_type": "stream",
     "text": [
      "<class 'pandas.core.frame.DataFrame'>\n",
      "RangeIndex: 1453 entries, 0 to 1452\n",
      "Data columns (total 15 columns):\n",
      " #   Column          Non-Null Count  Dtype \n",
      "---  ------          --------------  ----- \n",
      " 0   yummy           1453 non-null   object\n",
      " 1   convenient      1453 non-null   object\n",
      " 2   spicy           1453 non-null   object\n",
      " 3   fattening       1453 non-null   object\n",
      " 4   greasy          1453 non-null   object\n",
      " 5   fast            1453 non-null   object\n",
      " 6   cheap           1453 non-null   object\n",
      " 7   tasty           1453 non-null   object\n",
      " 8   expensive       1453 non-null   object\n",
      " 9   healthy         1453 non-null   object\n",
      " 10  disgusting      1453 non-null   object\n",
      " 11  Like            1453 non-null   object\n",
      " 12  Age             1453 non-null   int64 \n",
      " 13  VisitFrequency  1453 non-null   object\n",
      " 14  Gender          1453 non-null   object\n",
      "dtypes: int64(1), object(14)\n",
      "memory usage: 170.4+ KB\n"
     ]
    }
   ],
   "source": [
    "# Check for data types\n",
    "df.info()"
   ]
  },
  {
   "cell_type": "code",
   "execution_count": 134,
   "id": "32d71788",
   "metadata": {},
   "outputs": [
    {
     "data": {
      "text/plain": [
       "yummy             0\n",
       "convenient        0\n",
       "spicy             0\n",
       "fattening         0\n",
       "greasy            0\n",
       "fast              0\n",
       "cheap             0\n",
       "tasty             0\n",
       "expensive         0\n",
       "healthy           0\n",
       "disgusting        0\n",
       "Like              0\n",
       "Age               0\n",
       "VisitFrequency    0\n",
       "Gender            0\n",
       "dtype: int64"
      ]
     },
     "execution_count": 134,
     "metadata": {},
     "output_type": "execute_result"
    }
   ],
   "source": [
    "# Check for null values\n",
    "df.isnull().sum()\n",
    "\n",
    "# There is no null value"
   ]
  },
  {
   "cell_type": "code",
   "execution_count": 135,
   "id": "f539f3da",
   "metadata": {},
   "outputs": [
    {
     "data": {
      "text/plain": [
       "22"
      ]
     },
     "execution_count": 135,
     "metadata": {},
     "output_type": "execute_result"
    }
   ],
   "source": [
    "# Check for duplicate entries\n",
    "df.duplicated().sum()"
   ]
  },
  {
   "cell_type": "code",
   "execution_count": 136,
   "id": "f8d7b52b",
   "metadata": {},
   "outputs": [],
   "source": [
    "# Dropping duplicate entries\n",
    "df.drop_duplicates(inplace=True)"
   ]
  },
  {
   "cell_type": "code",
   "execution_count": 137,
   "id": "009bfca7",
   "metadata": {},
   "outputs": [
    {
     "data": {
      "text/plain": [
       "(1431, 15)"
      ]
     },
     "execution_count": 137,
     "metadata": {},
     "output_type": "execute_result"
    }
   ],
   "source": [
    "df.shape"
   ]
  },
  {
   "cell_type": "raw",
   "id": "82486e97",
   "metadata": {},
   "source": [
    "Exploring individual columns"
   ]
  },
  {
   "cell_type": "code",
   "execution_count": 138,
   "id": "792002a1",
   "metadata": {},
   "outputs": [
    {
     "data": {
      "text/plain": [
       "Yes    786\n",
       "No     645\n",
       "Name: yummy, dtype: int64"
      ]
     },
     "execution_count": 138,
     "metadata": {},
     "output_type": "execute_result"
    }
   ],
   "source": [
    "df['yummy'].value_counts()"
   ]
  },
  {
   "cell_type": "code",
   "execution_count": 139,
   "id": "a334403d",
   "metadata": {},
   "outputs": [
    {
     "data": {
      "text/plain": [
       "Yes    1298\n",
       "No      133\n",
       "Name: convenient, dtype: int64"
      ]
     },
     "execution_count": 139,
     "metadata": {},
     "output_type": "execute_result"
    }
   ],
   "source": [
    "df['convenient'].value_counts()"
   ]
  },
  {
   "cell_type": "code",
   "execution_count": 140,
   "id": "1eb9dc41",
   "metadata": {},
   "outputs": [
    {
     "data": {
      "text/plain": [
       "No     1295\n",
       "Yes     136\n",
       "Name: spicy, dtype: int64"
      ]
     },
     "execution_count": 140,
     "metadata": {},
     "output_type": "execute_result"
    }
   ],
   "source": [
    "df['spicy'].value_counts()"
   ]
  },
  {
   "cell_type": "code",
   "execution_count": 141,
   "id": "221d91fe",
   "metadata": {},
   "outputs": [
    {
     "data": {
      "text/plain": [
       "Yes    1240\n",
       "No      191\n",
       "Name: fattening, dtype: int64"
      ]
     },
     "execution_count": 141,
     "metadata": {},
     "output_type": "execute_result"
    }
   ],
   "source": [
    "df['fattening'].value_counts()"
   ]
  },
  {
   "cell_type": "code",
   "execution_count": 142,
   "id": "f068e3c2",
   "metadata": {},
   "outputs": [
    {
     "data": {
      "text/plain": [
       "Yes    754\n",
       "No     677\n",
       "Name: greasy, dtype: int64"
      ]
     },
     "execution_count": 142,
     "metadata": {},
     "output_type": "execute_result"
    }
   ],
   "source": [
    "df['greasy'].value_counts()"
   ]
  },
  {
   "cell_type": "code",
   "execution_count": 143,
   "id": "25317a97",
   "metadata": {},
   "outputs": [
    {
     "data": {
      "text/plain": [
       "Yes    1286\n",
       "No      145\n",
       "Name: fast, dtype: int64"
      ]
     },
     "execution_count": 143,
     "metadata": {},
     "output_type": "execute_result"
    }
   ],
   "source": [
    "df['fast'].value_counts()"
   ]
  },
  {
   "cell_type": "code",
   "execution_count": 144,
   "id": "c4ece50e",
   "metadata": {},
   "outputs": [
    {
     "data": {
      "text/plain": [
       "Yes    919\n",
       "No     512\n",
       "Name: tasty, dtype: int64"
      ]
     },
     "execution_count": 144,
     "metadata": {},
     "output_type": "execute_result"
    }
   ],
   "source": [
    "df['tasty'].value_counts()"
   ]
  },
  {
   "cell_type": "code",
   "execution_count": 145,
   "id": "680ad9d3",
   "metadata": {},
   "outputs": [
    {
     "data": {
      "text/plain": [
       "No     915\n",
       "Yes    516\n",
       "Name: expensive, dtype: int64"
      ]
     },
     "execution_count": 145,
     "metadata": {},
     "output_type": "execute_result"
    }
   ],
   "source": [
    "df['expensive'].value_counts()"
   ]
  },
  {
   "cell_type": "code",
   "execution_count": 146,
   "id": "1749f8b0",
   "metadata": {},
   "outputs": [
    {
     "data": {
      "text/plain": [
       "No     1144\n",
       "Yes     287\n",
       "Name: healthy, dtype: int64"
      ]
     },
     "execution_count": 146,
     "metadata": {},
     "output_type": "execute_result"
    }
   ],
   "source": [
    "df['healthy'].value_counts()"
   ]
  },
  {
   "cell_type": "code",
   "execution_count": 147,
   "id": "7997048d",
   "metadata": {},
   "outputs": [
    {
     "data": {
      "text/plain": [
       "No     1081\n",
       "Yes     350\n",
       "Name: disgusting, dtype: int64"
      ]
     },
     "execution_count": 147,
     "metadata": {},
     "output_type": "execute_result"
    }
   ],
   "source": [
    "df['disgusting'].value_counts()"
   ]
  },
  {
   "cell_type": "code",
   "execution_count": 148,
   "id": "348163c6",
   "metadata": {},
   "outputs": [
    {
     "data": {
      "text/plain": [
       "+3              225\n",
       "+2              180\n",
       "0               168\n",
       "+4              156\n",
       "+1              152\n",
       "I hate it!-5    150\n",
       "I love it!+5    140\n",
       "-3               73\n",
       "-4               70\n",
       "-2               59\n",
       "-1               58\n",
       "Name: Like, dtype: int64"
      ]
     },
     "execution_count": 148,
     "metadata": {},
     "output_type": "execute_result"
    }
   ],
   "source": [
    "df['Like'].value_counts()\n",
    "\n",
    "# Like ranges from -5 to 5"
   ]
  },
  {
   "cell_type": "code",
   "execution_count": 149,
   "id": "5cb5c44e",
   "metadata": {},
   "outputs": [
    {
     "data": {
      "text/plain": [
       "Once a month             427\n",
       "Every three months       339\n",
       "Once a year              252\n",
       "Once a week              232\n",
       "Never                    128\n",
       "More than once a week     53\n",
       "Name: VisitFrequency, dtype: int64"
      ]
     },
     "execution_count": 149,
     "metadata": {},
     "output_type": "execute_result"
    }
   ],
   "source": [
    "df['VisitFrequency'].value_counts()"
   ]
  },
  {
   "cell_type": "code",
   "execution_count": 150,
   "id": "f14a8826",
   "metadata": {},
   "outputs": [
    {
     "data": {
      "text/plain": [
       "Female    772\n",
       "Male      659\n",
       "Name: Gender, dtype: int64"
      ]
     },
     "execution_count": 150,
     "metadata": {},
     "output_type": "execute_result"
    }
   ],
   "source": [
    "df['Gender'].value_counts()"
   ]
  },
  {
   "cell_type": "raw",
   "id": "331b2a9f",
   "metadata": {},
   "source": [
    "# Observations:\n",
    "1. All the features are binary classified except 'Like' & 'VisitFrequency'\n",
    "2. 'Like' feature has two unique string entries which needs treatment to extract numbers."
   ]
  },
  {
   "cell_type": "code",
   "execution_count": 151,
   "id": "879a2f3f",
   "metadata": {},
   "outputs": [
    {
     "data": {
      "text/plain": [
       "+3              225\n",
       "+2              180\n",
       "0               168\n",
       "+4              156\n",
       "+1              152\n",
       "I hate it!-5    150\n",
       "I love it!+5    140\n",
       "-3               73\n",
       "-4               70\n",
       "-2               59\n",
       "-1               58\n",
       "Name: Like, dtype: int64"
      ]
     },
     "execution_count": 151,
     "metadata": {},
     "output_type": "execute_result"
    }
   ],
   "source": [
    "df['Like'].value_counts()"
   ]
  },
  {
   "cell_type": "markdown",
   "id": "8f036167",
   "metadata": {},
   "source": [
    "#### Descriptive Analysis                                                 "
   ]
  },
  {
   "cell_type": "raw",
   "id": "7b418c0a",
   "metadata": {},
   "source": [
    "Based on the above dataframe, it seems to represent some sort of survey or dataset containing responses related \n",
    "to food preferences and habits. Below is a descriptive analysis of the data:\n",
    "\n",
    "Number of Entries: There are 1453 entries in the dataset.\n",
    "\n",
    "Variables:\n",
    "1. Yummy: A binary variable indicating whether the food is considered yummy or not.\n",
    "2. Convenient: A binary variable indicating whether the food is considered convenient or not.\n",
    "3. Spicy: A binary variable indicating whether the food is considered spicy or not.\n",
    "4. Fattening: A binary variable indicating whether the food is considered fattening or not.\n",
    "5. Greasy: A binary variable indicating whether the food is considered greasy or not.\n",
    "6. Fast: A binary variable indicating whether the food is considered fast or not.\n",
    "7. Cheap: A binary variable indicating whether the food is considered cheap or not.\n",
    "8. Tasty: A binary variable indicating whether the food is considered tasty or not.\n",
    "9. Expensive: A binary variable indicating whether the food is considered expensive or not.\n",
    "10. Healthy: A binary variable indicating whether the food is considered healthy or not.\n",
    "11. Disgusting: A binary variable indicating whether the food is considered disgusting or not.\n",
    "12. Like: A categorical variable indicating the level of liking for the food.\n",
    "13. Visit Frequency: A categorical variable indicating how often respondents visit the place associated with the \n",
    "    food.\n",
    "14. Gender: A categorical variable indicating the gender of the respondents.\n",
    "    \n",
    "Unique Values:\n",
    "1. For binary variables (except for 'Like' and 'VisitFrequency'), there are two unique values: 'Yes' and 'No'.\n",
    "2. 'Like' has 11 unique values.\n",
    "3. 'VisitFrequency' has 6 unique values.\n",
    "4. 'Gender' has 2 unique values: 'Female' and 'Male'.\n",
    "    \n",
    "Mode (Most Frequent Values):\n",
    "1. For binary variables (except for 'Like' and 'VisitFrequency'), the most frequent value is 'Yes'.\n",
    "2. The most frequent value for 'Like' is '+3'.\n",
    "3. The most frequent value for 'VisitFrequency' is 'Once a month'.\n",
    "4. The most frequent value for 'Gender' is 'Female'.\n",
    "5. Frequency of Most Frequent Values:\n",
    "\n",
    "- 'Yes' is the most frequent value for binary variables, occurring with frequencies ranging from 765 to 1319.\n",
    "- '+3' occurs 229 times for 'Like'.\n",
    "- 'Once a month' occurs 439 times for 'VisitFrequency'.\n",
    "- 'Female' occurs 788 times for 'Gender'.\n",
    "-  This analysis provides a basic understanding of the dataset's structure, the types of variables present, and \n",
    "   the distribution of responses within those variables."
   ]
  },
  {
   "cell_type": "markdown",
   "id": "03b0e836",
   "metadata": {},
   "source": [
    "#### Data Preprocessing for Categorical Variables"
   ]
  },
  {
   "cell_type": "code",
   "execution_count": 152,
   "id": "186f3f98",
   "metadata": {},
   "outputs": [],
   "source": [
    "from sklearn.preprocessing import LabelEncoder\n",
    "\n",
    "# Initialize LabelEncoder\n",
    "label_encoder = LabelEncoder()\n",
    "\n",
    "# Apply LabelEncoder to categorical columns\n",
    "categorical_cols = ['yummy', 'convenient', 'spicy', 'fattening', 'greasy', 'fast', 'cheap', 'tasty', 'expensive', \n",
    "                    'healthy', 'disgusting', 'VisitFrequency', 'Gender']\n",
    "for col in categorical_cols:\n",
    "    df[col] = label_encoder.fit_transform(df[col])"
   ]
  },
  {
   "cell_type": "code",
   "execution_count": 153,
   "id": "667c93bb",
   "metadata": {},
   "outputs": [
    {
     "data": {
      "text/html": [
       "<div>\n",
       "<style scoped>\n",
       "    .dataframe tbody tr th:only-of-type {\n",
       "        vertical-align: middle;\n",
       "    }\n",
       "\n",
       "    .dataframe tbody tr th {\n",
       "        vertical-align: top;\n",
       "    }\n",
       "\n",
       "    .dataframe thead th {\n",
       "        text-align: right;\n",
       "    }\n",
       "</style>\n",
       "<table border=\"1\" class=\"dataframe\">\n",
       "  <thead>\n",
       "    <tr style=\"text-align: right;\">\n",
       "      <th></th>\n",
       "      <th>yummy</th>\n",
       "      <th>convenient</th>\n",
       "      <th>spicy</th>\n",
       "      <th>fattening</th>\n",
       "      <th>greasy</th>\n",
       "      <th>fast</th>\n",
       "      <th>cheap</th>\n",
       "      <th>tasty</th>\n",
       "      <th>expensive</th>\n",
       "      <th>healthy</th>\n",
       "      <th>disgusting</th>\n",
       "      <th>Like</th>\n",
       "      <th>Age</th>\n",
       "      <th>VisitFrequency</th>\n",
       "      <th>Gender</th>\n",
       "    </tr>\n",
       "  </thead>\n",
       "  <tbody>\n",
       "    <tr>\n",
       "      <th>0</th>\n",
       "      <td>0</td>\n",
       "      <td>1</td>\n",
       "      <td>0</td>\n",
       "      <td>1</td>\n",
       "      <td>0</td>\n",
       "      <td>1</td>\n",
       "      <td>1</td>\n",
       "      <td>0</td>\n",
       "      <td>1</td>\n",
       "      <td>0</td>\n",
       "      <td>0</td>\n",
       "      <td>-3</td>\n",
       "      <td>61</td>\n",
       "      <td>0</td>\n",
       "      <td>0</td>\n",
       "    </tr>\n",
       "    <tr>\n",
       "      <th>1</th>\n",
       "      <td>1</td>\n",
       "      <td>1</td>\n",
       "      <td>0</td>\n",
       "      <td>1</td>\n",
       "      <td>1</td>\n",
       "      <td>1</td>\n",
       "      <td>1</td>\n",
       "      <td>1</td>\n",
       "      <td>1</td>\n",
       "      <td>0</td>\n",
       "      <td>0</td>\n",
       "      <td>+2</td>\n",
       "      <td>51</td>\n",
       "      <td>0</td>\n",
       "      <td>0</td>\n",
       "    </tr>\n",
       "    <tr>\n",
       "      <th>2</th>\n",
       "      <td>0</td>\n",
       "      <td>1</td>\n",
       "      <td>1</td>\n",
       "      <td>1</td>\n",
       "      <td>1</td>\n",
       "      <td>1</td>\n",
       "      <td>0</td>\n",
       "      <td>1</td>\n",
       "      <td>1</td>\n",
       "      <td>1</td>\n",
       "      <td>0</td>\n",
       "      <td>+1</td>\n",
       "      <td>62</td>\n",
       "      <td>0</td>\n",
       "      <td>0</td>\n",
       "    </tr>\n",
       "    <tr>\n",
       "      <th>3</th>\n",
       "      <td>1</td>\n",
       "      <td>1</td>\n",
       "      <td>0</td>\n",
       "      <td>1</td>\n",
       "      <td>1</td>\n",
       "      <td>1</td>\n",
       "      <td>1</td>\n",
       "      <td>1</td>\n",
       "      <td>0</td>\n",
       "      <td>0</td>\n",
       "      <td>1</td>\n",
       "      <td>+4</td>\n",
       "      <td>69</td>\n",
       "      <td>4</td>\n",
       "      <td>0</td>\n",
       "    </tr>\n",
       "    <tr>\n",
       "      <th>4</th>\n",
       "      <td>0</td>\n",
       "      <td>1</td>\n",
       "      <td>0</td>\n",
       "      <td>1</td>\n",
       "      <td>1</td>\n",
       "      <td>1</td>\n",
       "      <td>1</td>\n",
       "      <td>0</td>\n",
       "      <td>0</td>\n",
       "      <td>1</td>\n",
       "      <td>0</td>\n",
       "      <td>+2</td>\n",
       "      <td>49</td>\n",
       "      <td>3</td>\n",
       "      <td>1</td>\n",
       "    </tr>\n",
       "  </tbody>\n",
       "</table>\n",
       "</div>"
      ],
      "text/plain": [
       "   yummy  convenient  spicy  fattening  greasy  fast  cheap  tasty  expensive  \\\n",
       "0      0           1      0          1       0     1      1      0          1   \n",
       "1      1           1      0          1       1     1      1      1          1   \n",
       "2      0           1      1          1       1     1      0      1          1   \n",
       "3      1           1      0          1       1     1      1      1          0   \n",
       "4      0           1      0          1       1     1      1      0          0   \n",
       "\n",
       "   healthy  disgusting Like  Age  VisitFrequency  Gender  \n",
       "0        0           0   -3   61               0       0  \n",
       "1        0           0   +2   51               0       0  \n",
       "2        1           0   +1   62               0       0  \n",
       "3        0           1   +4   69               4       0  \n",
       "4        1           0   +2   49               3       1  "
      ]
     },
     "execution_count": 153,
     "metadata": {},
     "output_type": "execute_result"
    }
   ],
   "source": [
    "df.head()"
   ]
  },
  {
   "cell_type": "code",
   "execution_count": 154,
   "id": "42f78a9a",
   "metadata": {},
   "outputs": [],
   "source": [
    "import re\n",
    "\n",
    "# Remove strings associated with numbers and extract numbers only\n",
    "df['Like'] = df['Like'].apply(lambda x: int(re.search(r'[-+]?\\d+', x).group()))"
   ]
  },
  {
   "cell_type": "code",
   "execution_count": 155,
   "id": "104db90f",
   "metadata": {},
   "outputs": [
    {
     "data": {
      "text/html": [
       "<div>\n",
       "<style scoped>\n",
       "    .dataframe tbody tr th:only-of-type {\n",
       "        vertical-align: middle;\n",
       "    }\n",
       "\n",
       "    .dataframe tbody tr th {\n",
       "        vertical-align: top;\n",
       "    }\n",
       "\n",
       "    .dataframe thead th {\n",
       "        text-align: right;\n",
       "    }\n",
       "</style>\n",
       "<table border=\"1\" class=\"dataframe\">\n",
       "  <thead>\n",
       "    <tr style=\"text-align: right;\">\n",
       "      <th></th>\n",
       "      <th>yummy</th>\n",
       "      <th>convenient</th>\n",
       "      <th>spicy</th>\n",
       "      <th>fattening</th>\n",
       "      <th>greasy</th>\n",
       "      <th>fast</th>\n",
       "      <th>cheap</th>\n",
       "      <th>tasty</th>\n",
       "      <th>expensive</th>\n",
       "      <th>healthy</th>\n",
       "      <th>disgusting</th>\n",
       "      <th>Like</th>\n",
       "      <th>Age</th>\n",
       "      <th>VisitFrequency</th>\n",
       "      <th>Gender</th>\n",
       "    </tr>\n",
       "  </thead>\n",
       "  <tbody>\n",
       "    <tr>\n",
       "      <th>0</th>\n",
       "      <td>0</td>\n",
       "      <td>1</td>\n",
       "      <td>0</td>\n",
       "      <td>1</td>\n",
       "      <td>0</td>\n",
       "      <td>1</td>\n",
       "      <td>1</td>\n",
       "      <td>0</td>\n",
       "      <td>1</td>\n",
       "      <td>0</td>\n",
       "      <td>0</td>\n",
       "      <td>-3</td>\n",
       "      <td>61</td>\n",
       "      <td>0</td>\n",
       "      <td>0</td>\n",
       "    </tr>\n",
       "    <tr>\n",
       "      <th>1</th>\n",
       "      <td>1</td>\n",
       "      <td>1</td>\n",
       "      <td>0</td>\n",
       "      <td>1</td>\n",
       "      <td>1</td>\n",
       "      <td>1</td>\n",
       "      <td>1</td>\n",
       "      <td>1</td>\n",
       "      <td>1</td>\n",
       "      <td>0</td>\n",
       "      <td>0</td>\n",
       "      <td>2</td>\n",
       "      <td>51</td>\n",
       "      <td>0</td>\n",
       "      <td>0</td>\n",
       "    </tr>\n",
       "    <tr>\n",
       "      <th>2</th>\n",
       "      <td>0</td>\n",
       "      <td>1</td>\n",
       "      <td>1</td>\n",
       "      <td>1</td>\n",
       "      <td>1</td>\n",
       "      <td>1</td>\n",
       "      <td>0</td>\n",
       "      <td>1</td>\n",
       "      <td>1</td>\n",
       "      <td>1</td>\n",
       "      <td>0</td>\n",
       "      <td>1</td>\n",
       "      <td>62</td>\n",
       "      <td>0</td>\n",
       "      <td>0</td>\n",
       "    </tr>\n",
       "    <tr>\n",
       "      <th>3</th>\n",
       "      <td>1</td>\n",
       "      <td>1</td>\n",
       "      <td>0</td>\n",
       "      <td>1</td>\n",
       "      <td>1</td>\n",
       "      <td>1</td>\n",
       "      <td>1</td>\n",
       "      <td>1</td>\n",
       "      <td>0</td>\n",
       "      <td>0</td>\n",
       "      <td>1</td>\n",
       "      <td>4</td>\n",
       "      <td>69</td>\n",
       "      <td>4</td>\n",
       "      <td>0</td>\n",
       "    </tr>\n",
       "    <tr>\n",
       "      <th>4</th>\n",
       "      <td>0</td>\n",
       "      <td>1</td>\n",
       "      <td>0</td>\n",
       "      <td>1</td>\n",
       "      <td>1</td>\n",
       "      <td>1</td>\n",
       "      <td>1</td>\n",
       "      <td>0</td>\n",
       "      <td>0</td>\n",
       "      <td>1</td>\n",
       "      <td>0</td>\n",
       "      <td>2</td>\n",
       "      <td>49</td>\n",
       "      <td>3</td>\n",
       "      <td>1</td>\n",
       "    </tr>\n",
       "  </tbody>\n",
       "</table>\n",
       "</div>"
      ],
      "text/plain": [
       "   yummy  convenient  spicy  fattening  greasy  fast  cheap  tasty  expensive  \\\n",
       "0      0           1      0          1       0     1      1      0          1   \n",
       "1      1           1      0          1       1     1      1      1          1   \n",
       "2      0           1      1          1       1     1      0      1          1   \n",
       "3      1           1      0          1       1     1      1      1          0   \n",
       "4      0           1      0          1       1     1      1      0          0   \n",
       "\n",
       "   healthy  disgusting  Like  Age  VisitFrequency  Gender  \n",
       "0        0           0    -3   61               0       0  \n",
       "1        0           0     2   51               0       0  \n",
       "2        1           0     1   62               0       0  \n",
       "3        0           1     4   69               4       0  \n",
       "4        1           0     2   49               3       1  "
      ]
     },
     "execution_count": 155,
     "metadata": {},
     "output_type": "execute_result"
    }
   ],
   "source": [
    "df.head()"
   ]
  },
  {
   "cell_type": "code",
   "execution_count": 156,
   "id": "e62133f9",
   "metadata": {},
   "outputs": [
    {
     "data": {
      "text/plain": [
       " 3    225\n",
       " 2    180\n",
       " 0    168\n",
       " 4    156\n",
       " 1    152\n",
       "-5    150\n",
       " 5    140\n",
       "-3     73\n",
       "-4     70\n",
       "-2     59\n",
       "-1     58\n",
       "Name: Like, dtype: int64"
      ]
     },
     "execution_count": 156,
     "metadata": {},
     "output_type": "execute_result"
    }
   ],
   "source": [
    "df['Like'].value_counts()"
   ]
  },
  {
   "cell_type": "code",
   "execution_count": 157,
   "id": "c517b722",
   "metadata": {},
   "outputs": [
    {
     "data": {
      "image/png": "[encoded data removed]",
      "text/plain": [
       "<Figure size 1500x1000 with 15 Axes>"
      ]
     },
     "metadata": {},
     "output_type": "display_data"
    }
   ],
   "source": [
    "# Check for outliers\n",
    "\n",
    "import seaborn as sns\n",
    "\n",
    "# Plot boxplots for each numerical feature\n",
    "plt.figure(figsize=(15, 10))\n",
    "for i, col in enumerate(df.columns):\n",
    "    if df[col].dtype != 'object':  # Check if the column is numerical\n",
    "        plt.subplot(3, 5, i + 1)\n",
    "        sns.boxplot(y=df[col])\n",
    "        plt.title(col)\n",
    "\n",
    "plt.tight_layout()\n",
    "plt.show()"
   ]
  },
  {
   "cell_type": "markdown",
   "id": "25ef488f",
   "metadata": {},
   "source": [
    "#### Data Preprocessing for Numerical Variables"
   ]
  },
  {
   "cell_type": "code",
   "execution_count": 158,
   "id": "285c27cf",
   "metadata": {},
   "outputs": [],
   "source": [
    "from sklearn.preprocessing import StandardScaler\n",
    "\n",
    "# Initialize the StandardScaler\n",
    "scaler = StandardScaler()\n",
    "\n",
    "# Select columns to be scaled\n",
    "columns_to_scale = ['Like', 'Age', 'VisitFrequency']\n",
    "\n",
    "# Fit and transform the selected columns\n",
    "df[columns_to_scale] = scaler.fit_transform(df[columns_to_scale])"
   ]
  },
  {
   "cell_type": "code",
   "execution_count": 159,
   "id": "e6df57ad",
   "metadata": {},
   "outputs": [
    {
     "data": {
      "text/html": [
       "<div>\n",
       "<style scoped>\n",
       "    .dataframe tbody tr th:only-of-type {\n",
       "        vertical-align: middle;\n",
       "    }\n",
       "\n",
       "    .dataframe tbody tr th {\n",
       "        vertical-align: top;\n",
       "    }\n",
       "\n",
       "    .dataframe thead th {\n",
       "        text-align: right;\n",
       "    }\n",
       "</style>\n",
       "<table border=\"1\" class=\"dataframe\">\n",
       "  <thead>\n",
       "    <tr style=\"text-align: right;\">\n",
       "      <th></th>\n",
       "      <th>yummy</th>\n",
       "      <th>convenient</th>\n",
       "      <th>spicy</th>\n",
       "      <th>fattening</th>\n",
       "      <th>greasy</th>\n",
       "      <th>fast</th>\n",
       "      <th>cheap</th>\n",
       "      <th>tasty</th>\n",
       "      <th>expensive</th>\n",
       "      <th>healthy</th>\n",
       "      <th>disgusting</th>\n",
       "      <th>Like</th>\n",
       "      <th>Age</th>\n",
       "      <th>VisitFrequency</th>\n",
       "      <th>Gender</th>\n",
       "    </tr>\n",
       "  </thead>\n",
       "  <tbody>\n",
       "    <tr>\n",
       "      <th>0</th>\n",
       "      <td>0</td>\n",
       "      <td>1</td>\n",
       "      <td>0</td>\n",
       "      <td>1</td>\n",
       "      <td>0</td>\n",
       "      <td>1</td>\n",
       "      <td>1</td>\n",
       "      <td>0</td>\n",
       "      <td>1</td>\n",
       "      <td>0</td>\n",
       "      <td>0</td>\n",
       "      <td>-1.206517</td>\n",
       "      <td>1.151424</td>\n",
       "      <td>-1.497870</td>\n",
       "      <td>0</td>\n",
       "    </tr>\n",
       "    <tr>\n",
       "      <th>1</th>\n",
       "      <td>1</td>\n",
       "      <td>1</td>\n",
       "      <td>0</td>\n",
       "      <td>1</td>\n",
       "      <td>1</td>\n",
       "      <td>1</td>\n",
       "      <td>1</td>\n",
       "      <td>1</td>\n",
       "      <td>1</td>\n",
       "      <td>0</td>\n",
       "      <td>0</td>\n",
       "      <td>0.398359</td>\n",
       "      <td>0.446923</td>\n",
       "      <td>-1.497870</td>\n",
       "      <td>0</td>\n",
       "    </tr>\n",
       "    <tr>\n",
       "      <th>2</th>\n",
       "      <td>0</td>\n",
       "      <td>1</td>\n",
       "      <td>1</td>\n",
       "      <td>1</td>\n",
       "      <td>1</td>\n",
       "      <td>1</td>\n",
       "      <td>0</td>\n",
       "      <td>1</td>\n",
       "      <td>1</td>\n",
       "      <td>1</td>\n",
       "      <td>0</td>\n",
       "      <td>0.077384</td>\n",
       "      <td>1.221874</td>\n",
       "      <td>-1.497870</td>\n",
       "      <td>0</td>\n",
       "    </tr>\n",
       "    <tr>\n",
       "      <th>3</th>\n",
       "      <td>1</td>\n",
       "      <td>1</td>\n",
       "      <td>0</td>\n",
       "      <td>1</td>\n",
       "      <td>1</td>\n",
       "      <td>1</td>\n",
       "      <td>1</td>\n",
       "      <td>1</td>\n",
       "      <td>0</td>\n",
       "      <td>0</td>\n",
       "      <td>1</td>\n",
       "      <td>1.040309</td>\n",
       "      <td>1.715025</td>\n",
       "      <td>0.771534</td>\n",
       "      <td>0</td>\n",
       "    </tr>\n",
       "    <tr>\n",
       "      <th>4</th>\n",
       "      <td>0</td>\n",
       "      <td>1</td>\n",
       "      <td>0</td>\n",
       "      <td>1</td>\n",
       "      <td>1</td>\n",
       "      <td>1</td>\n",
       "      <td>1</td>\n",
       "      <td>0</td>\n",
       "      <td>0</td>\n",
       "      <td>1</td>\n",
       "      <td>0</td>\n",
       "      <td>0.398359</td>\n",
       "      <td>0.306022</td>\n",
       "      <td>0.204183</td>\n",
       "      <td>1</td>\n",
       "    </tr>\n",
       "  </tbody>\n",
       "</table>\n",
       "</div>"
      ],
      "text/plain": [
       "   yummy  convenient  spicy  fattening  greasy  fast  cheap  tasty  expensive  \\\n",
       "0      0           1      0          1       0     1      1      0          1   \n",
       "1      1           1      0          1       1     1      1      1          1   \n",
       "2      0           1      1          1       1     1      0      1          1   \n",
       "3      1           1      0          1       1     1      1      1          0   \n",
       "4      0           1      0          1       1     1      1      0          0   \n",
       "\n",
       "   healthy  disgusting      Like       Age  VisitFrequency  Gender  \n",
       "0        0           0 -1.206517  1.151424       -1.497870       0  \n",
       "1        0           0  0.398359  0.446923       -1.497870       0  \n",
       "2        1           0  0.077384  1.221874       -1.497870       0  \n",
       "3        0           1  1.040309  1.715025        0.771534       0  \n",
       "4        1           0  0.398359  0.306022        0.204183       1  "
      ]
     },
     "execution_count": 159,
     "metadata": {},
     "output_type": "execute_result"
    }
   ],
   "source": [
    "df.head()"
   ]
  },
  {
   "cell_type": "raw",
   "id": "938e3c39",
   "metadata": {},
   "source": [
    "# Here are some reasons why StandardScaler is chosen for scaling:\n",
    "\n",
    "1. Preservation of information: StandardScaler preserves the shape of the original distribution of the data while \n",
    "   centering and scaling it. This can be important, especially if the distribution of the data is not Gaussian.\n",
    "\n",
    "2. Robustness to outliers: StandardScaler is less sensitive to the presence of outliers compared to Min-Max \n",
    "   Scaling, as it uses the mean and standard deviation to scale the data. Outliers have less impact on the mean and\n",
    "   standard deviation compared to the range of the data.\n",
    "\n",
    "3. Interpretability: StandardScaler scales the data to have a mean of 0 and a standard deviation of 1, which can \n",
    "   make the results more interpretable, especially in situations where the mean and standard deviation have \n",
    "   specific meanings.\n",
    "\n",
    "4. Compatibility with algorithms: Some algorithms, such as those based on distance metrics (e.g., \n",
    "   K-means clustering, Support Vector Machines), perform better when features are standardized. StandardScaler \n",
    "   ensures that all features have the same scale, which can improve the performance of such algorithms."
   ]
  },
  {
   "cell_type": "markdown",
   "id": "4b343ce6",
   "metadata": {},
   "source": [
    "#### Principal Component Analysis"
   ]
  },
  {
   "cell_type": "code",
   "execution_count": 160,
   "id": "a2400940",
   "metadata": {},
   "outputs": [
    {
     "data": {
      "image/png": "[encoded data removed]",
      "text/plain": [
       "<Figure size 1000x500 with 2 Axes>"
      ]
     },
     "metadata": {},
     "output_type": "display_data"
    }
   ],
   "source": [
    "import matplotlib.pyplot as plt\n",
    "from sklearn.decomposition import PCA\n",
    "\n",
    "# Perform PCA\n",
    "pca = PCA()\n",
    "pca.fit(df)\n",
    "\n",
    "# Plot Explained Variance Ratio\n",
    "plt.figure(figsize=(10, 5))\n",
    "plt.subplot(1, 2, 1)\n",
    "plt.plot(np.cumsum(pca.explained_variance_ratio_), marker='o', linestyle='-')\n",
    "plt.xlabel('Number of Components')\n",
    "plt.ylabel('Cumulative Explained Variance Ratio')\n",
    "plt.title('Explained Variance Ratio')\n",
    "\n",
    "# Plot Scree Plot\n",
    "plt.subplot(1, 2, 2)\n",
    "plt.plot(np.arange(1, pca.n_components_ + 1), pca.explained_variance_, marker='o', linestyle='-')\n",
    "plt.xlabel('Number of Components')\n",
    "plt.ylabel('Eigenvalues')\n",
    "plt.title('Scree Plot')\n",
    "\n",
    "plt.tight_layout()\n",
    "plt.show()"
   ]
  },
  {
   "cell_type": "code",
   "execution_count": 161,
   "id": "9ad76b88",
   "metadata": {},
   "outputs": [
    {
     "data": {
      "text/html": [
       "<div>\n",
       "<style scoped>\n",
       "    .dataframe tbody tr th:only-of-type {\n",
       "        vertical-align: middle;\n",
       "    }\n",
       "\n",
       "    .dataframe tbody tr th {\n",
       "        vertical-align: top;\n",
       "    }\n",
       "\n",
       "    .dataframe thead th {\n",
       "        text-align: right;\n",
       "    }\n",
       "</style>\n",
       "<table border=\"1\" class=\"dataframe\">\n",
       "  <thead>\n",
       "    <tr style=\"text-align: right;\">\n",
       "      <th></th>\n",
       "      <th>PC1</th>\n",
       "      <th>PC2</th>\n",
       "      <th>PC3</th>\n",
       "      <th>PC4</th>\n",
       "      <th>PC5</th>\n",
       "      <th>PC6</th>\n",
       "      <th>PC7</th>\n",
       "      <th>PC8</th>\n",
       "    </tr>\n",
       "  </thead>\n",
       "  <tbody>\n",
       "    <tr>\n",
       "      <th>0</th>\n",
       "      <td>1.634959</td>\n",
       "      <td>1.639258</td>\n",
       "      <td>0.117868</td>\n",
       "      <td>-0.163087</td>\n",
       "      <td>-0.331522</td>\n",
       "      <td>0.569756</td>\n",
       "      <td>-0.325932</td>\n",
       "      <td>0.194779</td>\n",
       "    </tr>\n",
       "    <tr>\n",
       "      <th>1</th>\n",
       "      <td>-0.390641</td>\n",
       "      <td>1.541674</td>\n",
       "      <td>0.222487</td>\n",
       "      <td>0.107894</td>\n",
       "      <td>-0.718528</td>\n",
       "      <td>-0.578164</td>\n",
       "      <td>0.107455</td>\n",
       "      <td>0.190952</td>\n",
       "    </tr>\n",
       "    <tr>\n",
       "      <th>2</th>\n",
       "      <td>0.500527</td>\n",
       "      <td>1.813646</td>\n",
       "      <td>-0.200571</td>\n",
       "      <td>0.777726</td>\n",
       "      <td>-0.747998</td>\n",
       "      <td>-0.327100</td>\n",
       "      <td>0.557208</td>\n",
       "      <td>-0.593594</td>\n",
       "    </tr>\n",
       "    <tr>\n",
       "      <th>3</th>\n",
       "      <td>-0.070396</td>\n",
       "      <td>0.024716</td>\n",
       "      <td>-1.860525</td>\n",
       "      <td>-0.156040</td>\n",
       "      <td>-0.686752</td>\n",
       "      <td>-1.102580</td>\n",
       "      <td>0.089362</td>\n",
       "      <td>-0.235752</td>\n",
       "    </tr>\n",
       "    <tr>\n",
       "      <th>4</th>\n",
       "      <td>0.063141</td>\n",
       "      <td>-0.049826</td>\n",
       "      <td>-0.394636</td>\n",
       "      <td>-0.366707</td>\n",
       "      <td>0.592777</td>\n",
       "      <td>-0.381553</td>\n",
       "      <td>-0.110666</td>\n",
       "      <td>-1.102455</td>\n",
       "    </tr>\n",
       "    <tr>\n",
       "      <th>...</th>\n",
       "      <td>...</td>\n",
       "      <td>...</td>\n",
       "      <td>...</td>\n",
       "      <td>...</td>\n",
       "      <td>...</td>\n",
       "      <td>...</td>\n",
       "      <td>...</td>\n",
       "      <td>...</td>\n",
       "    </tr>\n",
       "    <tr>\n",
       "      <th>1426</th>\n",
       "      <td>2.160815</td>\n",
       "      <td>-1.566203</td>\n",
       "      <td>0.473449</td>\n",
       "      <td>0.735488</td>\n",
       "      <td>0.259798</td>\n",
       "      <td>-0.136629</td>\n",
       "      <td>0.187931</td>\n",
       "      <td>-0.012021</td>\n",
       "    </tr>\n",
       "    <tr>\n",
       "      <th>1427</th>\n",
       "      <td>-0.963640</td>\n",
       "      <td>-0.744904</td>\n",
       "      <td>-0.380838</td>\n",
       "      <td>-0.440498</td>\n",
       "      <td>-0.172346</td>\n",
       "      <td>0.676638</td>\n",
       "      <td>0.582364</td>\n",
       "      <td>0.026498</td>\n",
       "    </tr>\n",
       "    <tr>\n",
       "      <th>1428</th>\n",
       "      <td>-0.535202</td>\n",
       "      <td>0.152197</td>\n",
       "      <td>-0.768013</td>\n",
       "      <td>0.942681</td>\n",
       "      <td>-0.638497</td>\n",
       "      <td>0.254161</td>\n",
       "      <td>-0.227707</td>\n",
       "      <td>0.413631</td>\n",
       "    </tr>\n",
       "    <tr>\n",
       "      <th>1429</th>\n",
       "      <td>-1.410478</td>\n",
       "      <td>1.565780</td>\n",
       "      <td>0.032344</td>\n",
       "      <td>-0.245931</td>\n",
       "      <td>0.881979</td>\n",
       "      <td>0.453854</td>\n",
       "      <td>0.572178</td>\n",
       "      <td>-0.332521</td>\n",
       "    </tr>\n",
       "    <tr>\n",
       "      <th>1430</th>\n",
       "      <td>1.031889</td>\n",
       "      <td>0.623444</td>\n",
       "      <td>2.377348</td>\n",
       "      <td>0.549846</td>\n",
       "      <td>0.334900</td>\n",
       "      <td>0.070602</td>\n",
       "      <td>-0.005854</td>\n",
       "      <td>-0.244082</td>\n",
       "    </tr>\n",
       "  </tbody>\n",
       "</table>\n",
       "<p>1431 rows × 8 columns</p>\n",
       "</div>"
      ],
      "text/plain": [
       "           PC1       PC2       PC3       PC4       PC5       PC6       PC7  \\\n",
       "0     1.634959  1.639258  0.117868 -0.163087 -0.331522  0.569756 -0.325932   \n",
       "1    -0.390641  1.541674  0.222487  0.107894 -0.718528 -0.578164  0.107455   \n",
       "2     0.500527  1.813646 -0.200571  0.777726 -0.747998 -0.327100  0.557208   \n",
       "3    -0.070396  0.024716 -1.860525 -0.156040 -0.686752 -1.102580  0.089362   \n",
       "4     0.063141 -0.049826 -0.394636 -0.366707  0.592777 -0.381553 -0.110666   \n",
       "...        ...       ...       ...       ...       ...       ...       ...   \n",
       "1426  2.160815 -1.566203  0.473449  0.735488  0.259798 -0.136629  0.187931   \n",
       "1427 -0.963640 -0.744904 -0.380838 -0.440498 -0.172346  0.676638  0.582364   \n",
       "1428 -0.535202  0.152197 -0.768013  0.942681 -0.638497  0.254161 -0.227707   \n",
       "1429 -1.410478  1.565780  0.032344 -0.245931  0.881979  0.453854  0.572178   \n",
       "1430  1.031889  0.623444  2.377348  0.549846  0.334900  0.070602 -0.005854   \n",
       "\n",
       "           PC8  \n",
       "0     0.194779  \n",
       "1     0.190952  \n",
       "2    -0.593594  \n",
       "3    -0.235752  \n",
       "4    -1.102455  \n",
       "...        ...  \n",
       "1426 -0.012021  \n",
       "1427  0.026498  \n",
       "1428  0.413631  \n",
       "1429 -0.332521  \n",
       "1430 -0.244082  \n",
       "\n",
       "[1431 rows x 8 columns]"
      ]
     },
     "execution_count": 161,
     "metadata": {},
     "output_type": "execute_result"
    }
   ],
   "source": [
    "from sklearn.decomposition import PCA\n",
    "\n",
    "# Apply PCA\n",
    "pca = PCA(n_components=8)  # Specify the number of components you want to reduce to\n",
    "principal_components = pca.fit_transform(df)\n",
    "\n",
    "# Create a DataFrame for the principal components\n",
    "principal_df = pd.DataFrame(data=principal_components, columns=['PC1', 'PC2','PC3','PC4','PC5','PC6','PC7','PC8'])\n",
    "\n",
    "principal_df"
   ]
  },
  {
   "cell_type": "markdown",
   "id": "ce539e18",
   "metadata": {},
   "source": [
    "#### Checklist"
   ]
  },
  {
   "cell_type": "raw",
   "id": "0b12c04c",
   "metadata": {},
   "source": [
    "1. A First Glimpse at the Data\n",
    "- Load the dataset\n",
    "- Display the first few rows to understand the structure and format of the data\n",
    "- Check for any missing or null values in the dataset\n",
    "\n",
    "2. Data Cleaning\n",
    "- Handle any missing or null values if present\n",
    "- Ensure data consistency and correctness\n",
    "- Convert data types if necessary\n",
    "- Check for outliers or anomalies in the data and decide whether to address them\n",
    "\n",
    "3. Descriptive Analysis\n",
    "- Perform descriptive analysis to understand the distribution and characteristics of the data.\n",
    "- Calculate basic statistics such as mean, median, mode, standard deviation, etc.\n",
    "- Visualize the data using plots such as histograms, box plots, etc., to gain insights into the data distribution.\n",
    "\n",
    "4. Pre-Processing\n",
    "- Identify categorical variables in the dataset.\n",
    "- Convert categorical variables to numerical format using techniques like one-hot encoding or label encoding.\n",
    "\n",
    "5. Numeric Variables\n",
    "- Standardize or scale numeric variables if necessary using techniques like Min-Max Scaling or Standard Scaling.\n",
    "\n",
    "6. Principal Components Analysis (PCA)\n",
    "- Perform PCA on the pre-processed data to reduce dimensionality.\n",
    "- Choose the number of principal components based on methods such as explained variance ratio or scree plot.\n",
    "\n",
    "Additional Notes:\n",
    "- Ensure documentation of each step for reproducibility.\n",
    "- Verify the correctness of transformations and operations performed at each step.\n",
    "- Keep track of any decisions made during the analysis process.\n",
    "- Perform exploratory data analysis to gain deeper insights into the data when necessary.\n",
    "- Review and iterate on the analysis process as needed to refine the results.\n",
    "\n",
    "By following this checklist, we can systematically conduct data analysis and preprocessing tasks, ensuring that \n",
    "all necessary steps are completed to prepare the data for further analysis or modeling."
   ]
  }
 ],
 "metadata": {
  "kernelspec": {
   "display_name": "Python 3 (ipykernel)",
   "language": "python",
   "name": "python3"
  },
  "language_info": {
   "codemirror_mode": {
    "name": "ipython",
    "version": 3
   },
   "file_extension": ".py",
   "mimetype": "text/x-python",
   "name": "python",
   "nbconvert_exporter": "python",
   "pygments_lexer": "ipython3",
   "version": "3.9.13"
  }
 },
 "nbformat": 4,
 "nbformat_minor": 5
}
